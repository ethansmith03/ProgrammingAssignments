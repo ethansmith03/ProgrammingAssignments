{
 "cells": [
  {
   "cell_type": "code",
   "execution_count": 1,
   "id": "91daf911",
   "metadata": {},
   "outputs": [
    {
     "name": "stdout",
     "output_type": "stream",
     "text": [
      "Your disease will cease to exist!\n",
      "['MOZZARELLA', 'Cinderella']\n"
     ]
    }
   ],
   "source": [
    "things = [\"mozzarella\", \"cinderella\", \"salmonella\"]\n",
    "thingsUpper = []\n",
    "diseases = [\"salmonella\", \"flu\", \"bronchitus\"]\n",
    "y=1\n",
    "\n",
    "\n",
    "for x in things:\n",
    "    if y == 1:\n",
    "        thingsUpper.append(x.upper())\n",
    "    elif y == 2:\n",
    "        thingsUpper.append(x.capitalize())\n",
    "    else: # to keep diseases from existing I could remove lines 12 to 19, but I prefer to have fun.\n",
    "        if y == 3:\n",
    "            for z in diseases:\n",
    "                if z == x:\n",
    "                    print(\"Your disease will cease to exist!\")\n",
    "        else:\n",
    "            thingsUpper.append(x)\n",
    "    y += 1\n",
    "\n",
    "print(thingsUpper)"
   ]
  },
  {
   "cell_type": "code",
   "execution_count": 2,
   "id": "1269c3f6",
   "metadata": {},
   "outputs": [
    {
     "name": "stdout",
     "output_type": "stream",
     "text": [
      "This is your list: ['Harry', 'Ron', 'Hermione'] \n",
      "This is the number you asked for:  5\n"
     ]
    }
   ],
   "source": [
    "def main():\n",
    "    hpList = good()\n",
    "    oddList = get_odds()\n",
    "    printStuff(hpList, oddList)\n",
    "\n",
    "def good():\n",
    "    myList = ['Harry', 'Ron', 'Hermione']\n",
    "    \n",
    "    return myList\n",
    "\n",
    "def get_odds():\n",
    "    oddNums = []\n",
    "    for x in range(10):\n",
    "        if x % 2 == 1:\n",
    "            oddNums.append(x)\n",
    "\n",
    "    return oddNums\n",
    "\n",
    "def printStuff(myList, oddList):\n",
    "    print(\"This is your list:\", myList, \"\\nThis is the number you asked for: \",  oddList[2])\n",
    "    \n",
    "main()"
   ]
  },
  {
   "cell_type": "code",
   "execution_count": null,
   "id": "8e96c483",
   "metadata": {},
   "outputs": [],
   "source": []
  }
 ],
 "metadata": {
  "kernelspec": {
   "display_name": "Python 3 (ipykernel)",
   "language": "python",
   "name": "python3"
  },
  "language_info": {
   "codemirror_mode": {
    "name": "ipython",
    "version": 3
   },
   "file_extension": ".py",
   "mimetype": "text/x-python",
   "name": "python",
   "nbconvert_exporter": "python",
   "pygments_lexer": "ipython3",
   "version": "3.11.5"
  }
 },
 "nbformat": 4,
 "nbformat_minor": 5
}
